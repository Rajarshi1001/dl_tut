{
  "nbformat": 4,
  "nbformat_minor": 0,
  "metadata": {
    "colab": {
      "name": "Xception.ipynb",
      "provenance": [],
      "authorship_tag": "ABX9TyMoraszGccWYZ+WG8HBXzlW",
      "include_colab_link": true
    },
    "kernelspec": {
      "name": "python3",
      "display_name": "Python 3"
    },
    "language_info": {
      "name": "python"
    },
    "accelerator": "GPU"
  },
  "cells": [
    {
      "cell_type": "markdown",
      "metadata": {
        "id": "view-in-github",
        "colab_type": "text"
      },
      "source": [
        "<a href=\"https://colab.research.google.com/github/Rajarshi1001/dl_tutorial/blob/main/Xception.ipynb\" target=\"_parent\"><img src=\"https://colab.research.google.com/assets/colab-badge.svg\" alt=\"Open In Colab\"/></a>"
      ]
    },
    {
      "cell_type": "code",
      "metadata": {
        "id": "sYpDASs0q7ix"
      },
      "source": [
        "import tensorflow as tf\n",
        "from tensorflow.keras import Input\n",
        "from tensorflow.keras.layers import Dense \n",
        "from tensorflow.keras.preprocessing.image import ImageDataGenerator, img_to_array\n",
        "from tensorflow.keras.models import Model\n",
        "from tensorflow.keras.applications.xception import Xception\n",
        "from tensorflow.keras.applications.xception import preprocess_input\n",
        "import numpy as np\n",
        "import matplotlib.pyplot as plt\n",
        "%matplotlib inline\n",
        "import pandas as pd\n",
        "import seaborn as sns\n",
        "import os\n",
        "from PIL import Image\n",
        "file_path=\"cnn_m\""
      ],
      "execution_count": null,
      "outputs": []
    },
    {
      "cell_type": "code",
      "metadata": {
        "colab": {
          "base_uri": "https://localhost:8080/"
        },
        "id": "_C6DlsettEiw",
        "outputId": "36c452c4-84ea-4b4b-b059-35f70749389f"
      },
      "source": [
        "!git clone https://github.com/alexeygrigorev/clothing-dataset-small.git"
      ],
      "execution_count": null,
      "outputs": [
        {
          "output_type": "stream",
          "text": [
            "Cloning into 'clothing-dataset-small'...\n",
            "remote: Enumerating objects: 3839, done.\u001b[K\n",
            "remote: Counting objects: 100% (400/400), done.\u001b[K\n",
            "remote: Compressing objects: 100% (400/400), done.\u001b[K\n",
            "remote: Total 3839 (delta 9), reused 384 (delta 0), pack-reused 3439\u001b[K\n",
            "Receiving objects: 100% (3839/3839), 100.58 MiB | 33.21 MiB/s, done.\n",
            "Resolving deltas: 100% (10/10), done.\n"
          ],
          "name": "stdout"
        }
      ]
    },
    {
      "cell_type": "code",
      "metadata": {
        "colab": {
          "base_uri": "https://localhost:8080/",
          "height": 529
        },
        "id": "PFQk5zuMr1_O",
        "outputId": "1ab107c6-45bd-453b-e586-b5c5fa3fb256"
      },
      "source": [
        "img = os.listdir(\"cnn_m/train\")\n",
        "print(len(img))\n",
        "count_dict = {k : 0 for k in img}\n",
        "store= 0\n",
        "img_list = []\n",
        "#counting the number of images of each category\n",
        "for index, label in enumerate(img):\n",
        "    images=os.listdir(os.path.join(\"cnn_m/train\", \"{}\".format(label)))\n",
        "    for entry in images:\n",
        "        img_list.append(os.path.join(\"cnn_m/train/{}\".format(label),entry))\n",
        "        count_dict[label]+=1\n",
        "        store= store + 1\n",
        "df = pd.DataFrame(count_dict, index=[0])\n",
        "fig, ax = plt.subplots(figsize=(10,7))\n",
        "sns.set_style('darkgrid')\n",
        "axs = sns.barplot(data = df, ax=ax)\n",
        "axs.set_title(\"Distribution of images\")\n",
        "axs.set(xlabel=\"Labels\", ylabel=\"frequency\")\n",
        "print(\"Total number of images:  {} \".format(store))\n",
        "print(\"clases are : \", count_dict)"
      ],
      "execution_count": null,
      "outputs": [
        {
          "output_type": "stream",
          "text": [
            "10\n",
            "Total number of images:  3068 \n",
            "clases are :  {'skirt': 112, 'longsleeve': 455, 'dress': 241, 'outwear': 184, 't-shirt': 795, 'shoes': 198, 'hat': 123, 'shorts': 202, 'shirt': 290, 'pants': 468}\n"
          ],
          "name": "stdout"
        },
        {
          "output_type": "display_data",
          "data": {
            "image/png": "[encoded data removed]",
            "text/plain": [
              "<Figure size 720x504 with 1 Axes>"
            ]
          },
          "metadata": {
            "tags": [],
            "needs_background": "light"
          }
        }
      ]
    },
    {
      "cell_type": "code",
      "metadata": {
        "colab": {
          "base_uri": "https://localhost:8080/"
        },
        "id": "F_0sUoXdr2Br",
        "outputId": "5633d013-1fdc-4204-ba33-285844c49699"
      },
      "source": [
        "img=Image.open(img_list[1])\n",
        "arr = img_to_array(img)\n",
        "print(\"Shape of each image in the sample: \",arr.shape)"
      ],
      "execution_count": null,
      "outputs": [
        {
          "output_type": "stream",
          "text": [
            "Shape of each image in the sample:  (533, 400, 3)\n"
          ],
          "name": "stdout"
        }
      ]
    },
    {
      "cell_type": "code",
      "metadata": {
        "colab": {
          "base_uri": "https://localhost:8080/"
        },
        "id": "eBc1qmBLr2D9",
        "outputId": "268dd95f-e998-4be6-be0e-ea72f039d714"
      },
      "source": [
        "train_gen = ImageDataGenerator(preprocessing_function = preprocess_input)\n",
        "train_ds=train_gen.flow_from_directory(directory=\"cnn_m/train\", target_size=(150,150), batch_size=32, seed=1)\n",
        "val_gen = ImageDataGenerator(preprocessing_function = preprocess_input)\n",
        "val_ds=val_gen.flow_from_directory(directory=\"cnn_m/validation\", target_size=(150,150), batch_size=32, seed=1)\n",
        "test_gen = ImageDataGenerator(preprocessing_function = preprocess_input)\n",
        "test_ds=test_gen.flow_from_directory(directory=\"cnn_m/test\", target_size=(150,150), batch_size=32, seed=1)\n",
        "base_model=Xception(weights= 'imagenet', include_top=False, input_shape=(150,150,3))\n",
        "base_model.trainable = False\n",
        "inputs=tf.keras.Input(shape=(150,150,3))\n",
        "base_layer = base_model(inputs, training=False)\n",
        "vector = tf.keras.layers.GlobalAveragePooling2D()(base_layer)\n",
        "outputs=Dense(10)(vector)\n",
        "\n",
        "model = Model(inputs, outputs)\n",
        "model.summary()\n",
        "lr=0.01"
      ],
      "execution_count": 19,
      "outputs": [
        {
          "output_type": "stream",
          "text": [
            "Found 3068 images belonging to 10 classes.\n",
            "Found 341 images belonging to 10 classes.\n",
            "Found 372 images belonging to 10 classes.\n",
            "Model: \"model_1\"\n",
            "_________________________________________________________________\n",
            "Layer (type)                 Output Shape              Param #   \n",
            "=================================================================\n",
            "input_4 (InputLayer)         [(None, 150, 150, 3)]     0         \n",
            "_________________________________________________________________\n",
            "xception (Functional)        (None, 5, 5, 2048)        20861480  \n",
            "_________________________________________________________________\n",
            "global_average_pooling2d_1 ( (None, 2048)              0         \n",
            "_________________________________________________________________\n",
            "dense_1 (Dense)              (None, 10)                20490     \n",
            "=================================================================\n",
            "Total params: 20,881,970\n",
            "Trainable params: 20,490\n",
            "Non-trainable params: 20,861,480\n",
            "_________________________________________________________________\n"
          ],
          "name": "stdout"
        }
      ]
    },
    {
      "cell_type": "code",
      "metadata": {
        "colab": {
          "base_uri": "https://localhost:8080/"
        },
        "id": "k6Rwj9tbr2F-",
        "outputId": "3cca5965-9b56-418e-9735-49448be45ed6"
      },
      "source": [
        "model.compile(optimizer=tf.keras.optimizers.Adam(lr), loss=tf.keras.losses.CategoricalCrossentropy(from_logits=True), metrics=['accuracy'])\n",
        "hist = model.fit(train_ds, epochs=5, verbose=1, validation_data=val_ds)"
      ],
      "execution_count": 21,
      "outputs": [
        {
          "output_type": "stream",
          "text": [
            "Epoch 1/5\n",
            "96/96 [==============================] - 16s 142ms/step - loss: 1.6487 - accuracy: 0.5648 - val_loss: 0.8864 - val_accuracy: 0.7713\n",
            "Epoch 2/5\n",
            "96/96 [==============================] - 13s 134ms/step - loss: 0.5062 - accuracy: 0.8423 - val_loss: 0.8498 - val_accuracy: 0.7801\n",
            "Epoch 3/5\n",
            "96/96 [==============================] - 13s 134ms/step - loss: 0.3495 - accuracy: 0.8834 - val_loss: 1.3764 - val_accuracy: 0.7742\n",
            "Epoch 4/5\n",
            "96/96 [==============================] - 13s 133ms/step - loss: 0.3562 - accuracy: 0.8981 - val_loss: 1.0237 - val_accuracy: 0.7830\n",
            "Epoch 5/5\n",
            "96/96 [==============================] - 13s 133ms/step - loss: 0.2013 - accuracy: 0.9271 - val_loss: 1.0614 - val_accuracy: 0.7713\n"
          ],
          "name": "stdout"
        }
      ]
    },
    {
      "cell_type": "code",
      "metadata": {
        "colab": {
          "base_uri": "https://localhost:8080/",
          "height": 445
        },
        "id": "TU3EXNz_r2IL",
        "outputId": "2535ce64-1aca-4e8b-9550-b9e9e8201b57"
      },
      "source": [
        "plt.figure(figsize=(10,7))\n",
        "plt.plot(hist.epoch, hist.history['val_accuracy'])\n",
        "plt.plot(hist.epoch, hist.history['accuracy'])\n",
        "acc=hist.history['accuracy']\n",
        "acc=np.array(acc)\n",
        "print('The accuracy of the model Xception after 5 epochs: ', np.amax(acc)*100)\n",
        "model.save('xception_model.h5')"
      ],
      "execution_count": 22,
      "outputs": [
        {
          "output_type": "stream",
          "text": [
            "The accuracy of the model Xception after 5 epochs:  92.76401400566101\n"
          ],
          "name": "stdout"
        },
        {
          "output_type": "display_data",
          "data": {
            "image/png": "[encoded data removed]",
            "text/plain": [
              "<Figure size 720x504 with 1 Axes>"
            ]
          },
          "metadata": {
            "tags": []
          }
        }
      ]
    },
    {
      "cell_type": "code",
      "metadata": {
        "id": "oDi_EHQIr2KO",
        "colab": {
          "base_uri": "https://localhost:8080/"
        },
        "outputId": "043c11a1-5ccf-45a9-952e-aefce385872a"
      },
      "source": [
        "predict= model.evaluate(test_ds)"
      ],
      "execution_count": 23,
      "outputs": [
        {
          "output_type": "stream",
          "text": [
            "12/12 [==============================] - 2s 171ms/step - loss: 1.0477 - accuracy: 0.7473\n"
          ],
          "name": "stdout"
        }
      ]
    },
    {
      "cell_type": "code",
      "metadata": {
        "id": "Dip1So06w42R"
      },
      "source": [
        ""
      ],
      "execution_count": null,
      "outputs": []
    }
  ]
}